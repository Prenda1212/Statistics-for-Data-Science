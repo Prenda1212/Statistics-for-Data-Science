{
 "cells": [
  {
   "cell_type": "code",
   "execution_count": 1,
   "metadata": {},
   "outputs": [],
   "source": [
    "import numpy as np\n",
    "import pandas as pd\n",
    "from pandas import Series, DataFrame\n",
    "from scipy import stats\n",
    "import matplotlib as mpl\n",
    "import matplotlib.pyplot as plt\n",
    "import seaborn as sns\n",
    "%matplotlib inline"
   ]
  },
  {
   "cell_type": "code",
   "execution_count": 2,
   "metadata": {},
   "outputs": [],
   "source": [
    "#from scipy import stats means to add statisticall distribution"
   ]
  },
  {
   "cell_type": "markdown",
   "metadata": {},
   "source": [
    "# Discrete uniform distributions\n",
    "\n",
    "- Theory\n",
    "\n",
    "A random variable X has a discrete uniform distribution if each of the n values in its range: x1,x2,x3....xn has equal probability:\n",
    "\n",
    "f(xi)=1/n\n",
    "\n",
    "- Example & Plotting\n"
   ]
  },
  {
   "cell_type": "code",
   "execution_count": 14,
   "metadata": {},
   "outputs": [
    {
     "data": {
      "text/plain": [
       "Text(0.5, 1.0, 'Probability of dice in each number')"
      ]
     },
     "execution_count": 14,
     "metadata": {},
     "output_type": "execute_result"
    },
    {
     "data": {
      "image/png": "[encoded data removed]",
      "text/plain": [
       "<Figure size 432x288 with 1 Axes>"
      ]
     },
     "metadata": {
      "needs_background": "light"
     },
     "output_type": "display_data"
    }
   ],
   "source": [
    "roll_result = range(1,7)\n",
    "#you could also do roll_result = [1,2,3,4,5,6]\n",
    "\n",
    "total_probablility_space = 1\n",
    "\n",
    "Probablility = total_probablility_space/ len(roll_result)\n",
    "\n",
    "Probablility\n",
    "\n",
    "#Plotting of functions\n",
    "\n",
    "prob_rugplot=sns.rugplot(roll_result,height=Probablility,c='indianred')\n",
    "\n",
    "prob_rugplot.set_title('Probability of dice in each number')\n"
   ]
  },
  {
   "cell_type": "markdown",
   "metadata": {},
   "source": [
    "- Output \n",
    "\n",
    "f(x) value on the plot is just equal to 1/(Total Possible Outcomes)"
   ]
  },
  {
   "cell_type": "code",
   "execution_count": 20,
   "metadata": {},
   "outputs": [
    {
     "name": "stdout",
     "output_type": "stream",
     "text": [
      "The mean is 3, and the variance is 2.92\n"
     ]
    }
   ],
   "source": [
    "# Creating discrete uniform distribution using Scipy\n",
    "\n",
    "from scipy.stats import randint\n",
    "\n",
    "# Mean = (6+1)/2 = 3.5\n",
    "# Variance^2 = [(6-1+1)^2 -1]/12\n",
    "low, high = 1, 7\n",
    "\n",
    "mean,var = randint.stats(low,high)\n",
    "\n",
    "print('The mean is %d, and the variance is %.2f' % (mean,var))"
   ]
  },
  {
   "cell_type": "code",
   "execution_count": 22,
   "metadata": {},
   "outputs": [
    {
     "data": {
      "text/plain": [
       "<BarContainer object of 6 artists>"
      ]
     },
     "execution_count": 22,
     "metadata": {},
     "output_type": "execute_result"
    },
    {
     "data": {
      "image/png": "[encoded data removed]",
      "text/plain": [
       "<Figure size 432x288 with 1 Axes>"
      ]
     },
     "metadata": {
      "needs_background": "light"
     },
     "output_type": "display_data"
    }
   ],
   "source": [
    "#Bar plot using probabilities\n",
    "# pmf argument takes # of sample, low boundary and high boundary\n",
    "plt.bar(roll_result,randint.pmf(roll_result,low,high))"
   ]
  },
  {
   "cell_type": "markdown",
   "metadata": {},
   "source": [
    "# German Tank Problem"
   ]
  },
  {
   "cell_type": "code",
   "execution_count": 51,
   "metadata": {},
   "outputs": [
    {
     "ename": "ModuleNotFoundError",
     "evalue": "No module named 'pymc3'",
     "output_type": "error",
     "traceback": [
      "\u001b[0;31m---------------------------------------------------------------------------\u001b[0m",
      "\u001b[0;31mModuleNotFoundError\u001b[0m                       Traceback (most recent call last)",
      "\u001b[0;32m<ipython-input-51-bb26cb7ebcde>\u001b[0m in \u001b[0;36m<module>\u001b[0;34m\u001b[0m\n\u001b[1;32m      1\u001b[0m \u001b[0;32mfrom\u001b[0m \u001b[0mrandom\u001b[0m \u001b[0;32mimport\u001b[0m \u001b[0msample\u001b[0m\u001b[0;34m\u001b[0m\u001b[0;34m\u001b[0m\u001b[0m\n\u001b[1;32m      2\u001b[0m \u001b[0;34m\u001b[0m\u001b[0m\n\u001b[0;32m----> 3\u001b[0;31m \u001b[0;32mimport\u001b[0m \u001b[0mpymc3\u001b[0m \u001b[0;32mas\u001b[0m \u001b[0mpm\u001b[0m\u001b[0;34m\u001b[0m\u001b[0;34m\u001b[0m\u001b[0m\n\u001b[0m\u001b[1;32m      4\u001b[0m \u001b[0;32mimport\u001b[0m \u001b[0mnumpy\u001b[0m \u001b[0;32mas\u001b[0m \u001b[0mnp\u001b[0m\u001b[0;34m\u001b[0m\u001b[0;34m\u001b[0m\u001b[0m\n\u001b[1;32m      5\u001b[0m \u001b[0;32mimport\u001b[0m \u001b[0mmatplotlib\u001b[0m\u001b[0;34m.\u001b[0m\u001b[0mpyplot\u001b[0m \u001b[0;32mas\u001b[0m \u001b[0mplt\u001b[0m\u001b[0;34m\u001b[0m\u001b[0;34m\u001b[0m\u001b[0m\n",
      "\u001b[0;31mModuleNotFoundError\u001b[0m: No module named 'pymc3'"
     ]
    }
   ],
   "source": [
    "from random import sample\n",
    "\n",
    "import pymc3 as pm\n",
    "import numpy as np\n",
    "import matplotlib.pyplot as plt"
   ]
  },
  {
   "cell_type": "code",
   "execution_count": 26,
   "metadata": {},
   "outputs": [
    {
     "ename": "ModuleNotFoundError",
     "evalue": "No module named 'pymc3'",
     "output_type": "error",
     "traceback": [
      "\u001b[0;31m---------------------------------------------------------------------------\u001b[0m",
      "\u001b[0;31mModuleNotFoundError\u001b[0m                       Traceback (most recent call last)",
      "\u001b[0;32m<ipython-input-26-5608ba80b703>\u001b[0m in \u001b[0;36m<module>\u001b[0;34m\u001b[0m\n\u001b[1;32m      3\u001b[0m \u001b[0;32mfrom\u001b[0m \u001b[0mrandom\u001b[0m \u001b[0;32mimport\u001b[0m \u001b[0msample\u001b[0m\u001b[0;34m\u001b[0m\u001b[0;34m\u001b[0m\u001b[0m\n\u001b[1;32m      4\u001b[0m \u001b[0;34m\u001b[0m\u001b[0m\n\u001b[0;32m----> 5\u001b[0;31m \u001b[0;32mimport\u001b[0m \u001b[0mpymc3\u001b[0m \u001b[0;32mas\u001b[0m \u001b[0mpm\u001b[0m\u001b[0;34m\u001b[0m\u001b[0;34m\u001b[0m\u001b[0m\n\u001b[0m\u001b[1;32m      6\u001b[0m \u001b[0;32mimport\u001b[0m \u001b[0mnumpy\u001b[0m \u001b[0;32mas\u001b[0m \u001b[0mnp\u001b[0m\u001b[0;34m\u001b[0m\u001b[0;34m\u001b[0m\u001b[0m\n\u001b[1;32m      7\u001b[0m \u001b[0;32mimport\u001b[0m \u001b[0mmatplotlib\u001b[0m\u001b[0;34m.\u001b[0m\u001b[0mpyplot\u001b[0m \u001b[0;32mas\u001b[0m \u001b[0mplt\u001b[0m\u001b[0;34m\u001b[0m\u001b[0;34m\u001b[0m\u001b[0m\n",
      "\u001b[0;31mModuleNotFoundError\u001b[0m: No module named 'pymc3'"
     ]
    }
   ],
   "source": [
    "import sys\n",
    "\n",
    "from random import sample\n",
    "\n",
    "import pymc3 as pm\n",
    "import numpy as np\n",
    "import matplotlib.pyplot as plt\n",
    "\n",
    "# true number of tanks\n",
    "N = 1000\n",
    "\n",
    "# number of captured tanks\n",
    "K = 20\n",
    "\n",
    "y = sample( range(1,N+1), K )\n",
    "y = np.array( y )\n",
    "\n",
    "print( y )\n",
    "\n",
    "model = pm.Model()\n",
    "\n",
    "with model:\n",
    "    N = pm.DiscreteUniform( 'N', lower=np.max(y), upper=10000 )\n",
    "    lam = pm.HalfNormal( 'lam', sd=10 )\n",
    "    nobs = pm.Poisson( 'nobs', mu=N*lam, observed=len(y) )\n",
    "    y_obs = pm.DiscreteUniform( 'y_obs', lower=1, upper=N, observed=y )\n",
    "    step = pm.Metropolis()\n",
    "    trace = pm.sample( 1000000, step=step, njobs=4, progressbar=True )\n",
    "\n",
    "pm.summary( trace )\n",
    "\n",
    "pm.traceplot( trace )\n",
    "plt.show()"
   ]
  },
  {
   "cell_type": "markdown",
   "metadata": {},
   "source": [
    "# Continous Uniform Distributions"
   ]
  },
  {
   "cell_type": "markdown",
   "metadata": {},
   "source": [
    "- Definition\n",
    "A continous random variable X with a probability density function is a continous uniform random variable when:\n",
    "\n",
    "f(x)=1/(b−a)\n",
    "\n",
    "a<=x<=b\n",
    "\n",
    "This makes sense, since for a discrete uniform distribution the f(x)=1/n but in the continous case we don't have a specific n possibilities, we have a range from the min (a) to the max (b)!\n",
    "\n",
    "The mean is simply the average of the min and max:\n",
    "\n",
    "(a+b)/2\n",
    "\n",
    "The variance is defined as:\n",
    "\n",
    "σ2=(b−a)^2/12\n",
    "\n",
    "- Example"
   ]
  },
  {
   "cell_type": "markdown",
   "metadata": {},
   "source": [
    "a taxi ride in NYC takes 22 minutes. After taking some time measurements from experiments we gather that all the taxi rides are uniformly distributed between 19 and 27 minutes. \n",
    "\n",
    "* What is the probability density function of a taxi ride, or f(x)?"
   ]
  },
  {
   "cell_type": "code",
   "execution_count": 35,
   "metadata": {},
   "outputs": [
    {
     "name": "stdout",
     "output_type": "stream",
     "text": [
      "The probability density function is 0.125, and the variance of this continuous uniform distribution is 5.33\n"
     ]
    }
   ],
   "source": [
    "# Probability density function of a taxi  is 1 /(27-19)\n",
    "a = 19\n",
    "\n",
    "b = 27\n",
    "\n",
    "taxi_den_func= 1/(b-a)\n",
    "\n",
    "# variance of the continuous uniform distribution is (27 - 19)^2/12\n",
    "\n",
    "taxi_variance=(b-a)**2/12\n",
    "\n",
    "print('The probability density function is %.3f, and the variance of this continuous uniform distribution is %1.2f' %(taxi_den_func,taxi_variance) )"
   ]
  },
  {
   "cell_type": "markdown",
   "metadata": {},
   "source": [
    "* what's the probability that the taxi ride will last at least 25 minutes?"
   ]
  },
  {
   "cell_type": "code",
   "execution_count": 46,
   "metadata": {},
   "outputs": [
    {
     "name": "stdout",
     "output_type": "stream",
     "text": [
      "The probability density function of  taxi ride will last at least 25 minutesis 25.00 %\n"
     ]
    }
   ],
   "source": [
    "# The answer is fx(=> 25) = f(27)-f(25)\n",
    "# Because 1 = f(27)-f(19)\n",
    "\n",
    "fx_27 = 27/(b-a)\n",
    "fx_27\n",
    "\n",
    "fx_25 = 25/(b-a)\n",
    "fx_25\n",
    "\n",
    "Taxi_atleast_25 = fx_27 -fx_25\n",
    "\n",
    "#fx_19 = 19/(b-a)\n",
    "print('The probability density function of  taxi ride will last at least 25 minutesis %1.2f %%' %((Taxi_atleast_25)*100 ) )"
   ]
  },
  {
   "cell_type": "markdown",
   "metadata": {},
   "source": [
    "* Using Scipy to do it automatically"
   ]
  },
  {
   "cell_type": "code",
   "execution_count": 53,
   "metadata": {},
   "outputs": [
    {
     "data": {
      "text/plain": [
       "[<matplotlib.lines.Line2D at 0x1a178e1e48>]"
      ]
     },
     "execution_count": 53,
     "metadata": {},
     "output_type": "execute_result"
    },
    {
     "data": {
      "image/png": "[encoded data removed]",
      "text/plain": [
       "<Figure size 432x288 with 1 Axes>"
      ]
     },
     "metadata": {
      "needs_background": "light"
     },
     "output_type": "display_data"
    }
   ],
   "source": [
    "# Import the following\n",
    "from scipy.stats import uniform\n",
    "import numpy as np\n",
    "\n",
    "#Let's set an A and B\n",
    "A=0\n",
    "B=5\n",
    "\n",
    "# Set x as 100 linearly spaced points between A and B\n",
    "x = np.linspace(A,B,100)\n",
    "\n",
    "# Use uniform(loc=start point,scale=endpoint)\n",
    "rv = uniform(loc=A,scale=B)\n",
    "\n",
    "#Plot the PDF of that uniform distirbution\n",
    "plt.plot(x,rv.pdf(x))"
   ]
  },
  {
   "cell_type": "code",
   "execution_count": 55,
   "metadata": {},
   "outputs": [
    {
     "data": {
      "text/plain": [
       "[<matplotlib.lines.Line2D at 0x1a1794f828>]"
      ]
     },
     "execution_count": 55,
     "metadata": {},
     "output_type": "execute_result"
    },
    {
     "data": {
      "image/png": "[encoded data removed]",
      "text/plain": [
       "<Figure size 432x288 with 1 Axes>"
      ]
     },
     "metadata": {
      "needs_background": "light"
     },
     "output_type": "display_data"
    }
   ],
   "source": [
    "from scipy.stats import uniform\n",
    "#Same questions\n",
    "A = 19-19\n",
    "B = 27-19\n",
    "\n",
    "\n",
    "#Using numpy linear space\n",
    "x = np.linspace(A,B,100)\n",
    "\n",
    "#Use uniform distribution, loc = starting point, scale = end point\n",
    "rv = uniform(loc=A,scale=B)\n",
    "\n",
    "#rv.pdf means Probability density functions\n",
    "# Probability density function of a taxi  is 1 /(27-19) = 0.125\n",
    "plt.plot(x+19,rv.pdf(x))"
   ]
  },
  {
   "cell_type": "code",
   "execution_count": null,
   "metadata": {},
   "outputs": [],
   "source": []
  }
 ],
 "metadata": {
  "kernelspec": {
   "display_name": "Python 3",
   "language": "python",
   "name": "python3"
  },
  "language_info": {
   "codemirror_mode": {
    "name": "ipython",
    "version": 3
   },
   "file_extension": ".py",
   "mimetype": "text/x-python",
   "name": "python",
   "nbconvert_exporter": "python",
   "pygments_lexer": "ipython3",
   "version": "3.7.3"
  }
 },
 "nbformat": 4,
 "nbformat_minor": 2
}

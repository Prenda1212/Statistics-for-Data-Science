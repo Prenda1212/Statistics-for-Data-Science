{
 "cells": [
  {
   "cell_type": "markdown",
   "metadata": {},
   "source": [
    "# Binomial \n",
    "\n",
    "It is a specific type of a discrete probability distribution.¶\n",
    "\n",
    "\n",
    "1.) The process consists of a sequence of n trials.\n",
    "\n",
    "2.) Only two exclusive outcomes are possible for each trial (A success and a failure)\n",
    "\n",
    "3.) If the probability of a success is 'p' then the probability of failure is q=1-p\n",
    "\n",
    "4.) The trials are independent."
   ]
  },
  {
   "cell_type": "markdown",
   "metadata": {},
   "source": [
    "- Question\n",
    "\n",
    "Two players are playing basketball, player A and player B. Player A takes an average of 11 shots per game, and has an average success rate of 72%. Player B takes an average of 15 shots per game, but has an average success rate of 48%.\n",
    "\n",
    "Question 1: What's the probability that Player A makes 6 shots in an average game?\n",
    "\n",
    "Question 2: What's the probability that Player B makes 6 shots in an average game?"
   ]
  },
  {
   "cell_type": "markdown",
   "metadata": {},
   "source": [
    "- Theory of pmf - it is a discrete distribution\n",
    "\n",
    "Probability (Number of successes) = [combination of n chose k]*(probability of successes)^(number of successes)*(probability of failure)^(number of failure)\n",
    "\n",
    "Where \n",
    "n= number of trials,\n",
    "k=number of successes,\n",
    "p=probability of success,\n",
    "1-p=probability of failure (often written as q=1-p)."
   ]
  },
  {
   "cell_type": "code",
   "execution_count": 18,
   "metadata": {},
   "outputs": [
    {
     "name": "stdout",
     "output_type": "stream",
     "text": [
      " The probability of player A making 6 shots in an average game is 11.08 % \n"
     ]
    },
    {
     "name": "stderr",
     "output_type": "stream",
     "text": [
      "/Users/Brenda-Liu-Life/Applications/Anaconda/anaconda3/lib/python3.7/site-packages/ipykernel_launcher.py:16: DeprecationWarning: `comb` is deprecated!\n",
      "Importing `comb` from scipy.misc is deprecated in scipy 1.0.0. Use `scipy.special.comb` instead.\n",
      "  app.launch_new_instance()\n"
     ]
    }
   ],
   "source": [
    "# Now import scipy for combination\n",
    "#Answer of player A\n",
    "import scipy.misc as sc\n",
    "\n",
    "p_A=0.72\n",
    "\n",
    "n_A=11\n",
    "\n",
    "p_B=0.48\n",
    "\n",
    "n_B=15\n",
    "\n",
    "#Number of success\n",
    "k = 6\n",
    "\n",
    "#Set up C(n_A,k)\n",
    "comb_A = sc.comb(n_A,k)\n",
    "\n",
    "#The probability that Player A makes 6 shots in an average game\n",
    "Pr_x_A = comb_A * (p_A)**k * (1-p_A)**(n_A-k)\n",
    "\n",
    "\n",
    "print(' The probability of player A making 6 shots in an average game is %1.2f %% ' %(Pr_x_A*100))"
   ]
  },
  {
   "cell_type": "code",
   "execution_count": 20,
   "metadata": {},
   "outputs": [
    {
     "name": "stdout",
     "output_type": "stream",
     "text": [
      " The probability of player B making 6 shots in an average game is 17.02 % \n"
     ]
    },
    {
     "name": "stderr",
     "output_type": "stream",
     "text": [
      "/Users/Brenda-Liu-Life/Applications/Anaconda/anaconda3/lib/python3.7/site-packages/ipykernel_launcher.py:5: DeprecationWarning: `comb` is deprecated!\n",
      "Importing `comb` from scipy.misc is deprecated in scipy 1.0.0. Use `scipy.special.comb` instead.\n",
      "  \"\"\"\n"
     ]
    }
   ],
   "source": [
    "# Now import scipy for combination\n",
    "#Answer of player B\n",
    "\n",
    "#Set up C(n_A,k)\n",
    "comb_B = sc.comb(n_B,k)\n",
    "\n",
    "#The probability that Player B makes 6 shots in an average game\n",
    "Pr_x_B = comb_B * (p_B)**k * (1-p_B)**(n_B-k)\n",
    "\n",
    "\n",
    "print(' The probability of player B making 6 shots in an average game is %1.2f %% ' %(Pr_x_B*100))"
   ]
  },
  {
   "cell_type": "markdown",
   "metadata": {},
   "source": [
    "* What's the probability of making 9 shots a game for either player?\n",
    "* what about a higher amount of shots, will player's A higher probability take a stronger effect then? "
   ]
  },
  {
   "cell_type": "code",
   "execution_count": 22,
   "metadata": {},
   "outputs": [
    {
     "name": "stdout",
     "output_type": "stream",
     "text": [
      " The probability of player A and B making 9 shots in an average game are 22.42 % and 13.38 %\n"
     ]
    },
    {
     "name": "stderr",
     "output_type": "stream",
     "text": [
      "/Users/Brenda-Liu-Life/Applications/Anaconda/anaconda3/lib/python3.7/site-packages/ipykernel_launcher.py:5: DeprecationWarning: `comb` is deprecated!\n",
      "Importing `comb` from scipy.misc is deprecated in scipy 1.0.0. Use `scipy.special.comb` instead.\n",
      "  \"\"\"\n",
      "/Users/Brenda-Liu-Life/Applications/Anaconda/anaconda3/lib/python3.7/site-packages/ipykernel_launcher.py:7: DeprecationWarning: `comb` is deprecated!\n",
      "Importing `comb` from scipy.misc is deprecated in scipy 1.0.0. Use `scipy.special.comb` instead.\n",
      "  import sys\n"
     ]
    }
   ],
   "source": [
    "#Number of success\n",
    "k = 9\n",
    "\n",
    "#Set up C(n,k)\n",
    "comb_A = sc.comb(n_A,k)\n",
    "\n",
    "comb_B = sc.comb(n_B,k)\n",
    "\n",
    "\n",
    "#The probability that Player A makes 6 shots in an average game\n",
    "Pr_x_A = comb_A * (p_A)**k * (1-p_A)**(n_A-k)\n",
    "\n",
    "#The probability that Player B makes 9 shots in an average game\n",
    "Pr_x_B = comb_B * (p_B)**k * (1-p_B)**(n_B-k)\n",
    "\n",
    "\n",
    "print(' The probability of player A and B making 9 shots in an average game are %1.2f %% and %1.2f %%' %(Pr_x_A*100,Pr_x_B*100))"
   ]
  },
  {
   "cell_type": "markdown",
   "metadata": {},
   "source": [
    "# Automatically make a binomial distribution"
   ]
  },
  {
   "cell_type": "code",
   "execution_count": 26,
   "metadata": {},
   "outputs": [
    {
     "name": "stdout",
     "output_type": "stream",
     "text": [
      "The mean of this binomial distribution of A is 7.92 and variance is 1.49 \n"
     ]
    }
   ],
   "source": [
    "from scipy.stats import binom\n",
    "\n",
    "# mean and Variance\n",
    "\n",
    "mean, var = binom.stats(n_A,p_A)\n",
    "\n",
    "print('The mean of this binomial distribution of A is %1.2f and variance is %1.2f ' %(mean,var**0.5))"
   ]
  },
  {
   "cell_type": "markdown",
   "metadata": {},
   "source": [
    "# The proababilities of coin flip for 10 times"
   ]
  },
  {
   "cell_type": "code",
   "execution_count": 32,
   "metadata": {},
   "outputs": [
    {
     "data": {
      "text/plain": [
       "array([0.00097656, 0.00976563, 0.04394531, 0.1171875 , 0.20507813,\n",
       "       0.24609375, 0.20507813, 0.1171875 , 0.04394531, 0.00976563,\n",
       "       0.00097656])"
      ]
     },
     "execution_count": 32,
     "metadata": {},
     "output_type": "execute_result"
    }
   ],
   "source": [
    "# Conclude the prabability mass function as below:\n",
    "\n",
    "# n = 10 coin flips, p = 0.5 as coin flip has 50% sucesses rate\n",
    "\n",
    "n= 10\n",
    "\n",
    "p = 0.5\n",
    "\n",
    "x = range(n+1)\n",
    "\n",
    "#Create the prabiblity mas function as below\n",
    "# Using binom.pmf(input of X, number of trial, success rate)\n",
    "Y =binom.pmf(x,n,p)\n",
    "\n",
    "Y"
   ]
  },
  {
   "cell_type": "code",
   "execution_count": 33,
   "metadata": {},
   "outputs": [],
   "source": [
    "import numpy as np\n",
    "import pandas as pd\n",
    "from pandas import Series, DataFrame\n",
    "from scipy import stats\n",
    "import matplotlib as mpl\n",
    "import matplotlib.pyplot as plt\n",
    "import seaborn as sns\n",
    "%matplotlib inline"
   ]
  },
  {
   "cell_type": "code",
   "execution_count": 37,
   "metadata": {},
   "outputs": [
    {
     "data": {
      "text/plain": [
       "Text(0, 0.5, 'probabilities of showing heads')"
      ]
     },
     "execution_count": 37,
     "metadata": {},
     "output_type": "execute_result"
    },
    {
     "data": {
      "image/png": "[encoded data removed]",
      "text/plain": [
       "<Figure size 432x288 with 1 Axes>"
      ]
     },
     "metadata": {
      "needs_background": "light"
     },
     "output_type": "display_data"
    }
   ],
   "source": [
    "plt.plot(x,Y,'o')\n",
    "\n",
    "plt.title('Binomial distribution of 10 flips with odds for heads up - 0.5',y = 1.50)\n",
    "\n",
    "#Axis Titles\n",
    "plt.xlabel('Number of heads')\n",
    "plt.ylabel('probabilities of showing heads')\n",
    "\n"
   ]
  },
  {
   "cell_type": "markdown",
   "metadata": {},
   "source": [
    "# Poisson Distribution"
   ]
  },
  {
   "cell_type": "markdown",
   "metadata": {},
   "source": [
    "Formal Definition: A discrete random variable X has a Poisson distribution with parameter λ if for k=0,1,2.., the probability mass function of X is given by:\n",
    "\n",
    "Pr(X=k)=λ^(k)*e^(-λ)/k!\n",
    "\n",
    "where \n",
    "\n",
    "e is Euler's number (e=2.718...)\n",
    "\n",
    "k! is the factorial of k.\n",
    "\n",
    "The Poisson Distribution has the following characteristics:\n",
    "\n",
    "1.) Discrete outcomes (x=0,1,2,3...)\n",
    "2.) The number of occurrences can range from zero to infinity (theoretically). \n",
    "3.) It describes the distribution of infrequent (rare) events.\n",
    "4.) Each event is independent of the other events.\n",
    "5.) Describes discrete events over an interval such as a time or distance.\n",
    "6.) The expected number of occurrences E(X) are assumed to be constant throughout the experiment."
   ]
  },
  {
   "cell_type": "markdown",
   "metadata": {},
   "source": [
    "* McDonald's has a lunch rush from 12:30pm to 1:00pm. From looking at customer sales from previous days, we know that on average 10 customers enter during 12:30pm to 1:00pm. What is the probability that exactly 7 customers enter during lunch rush? What is the probability that more than 10 customers arrive?"
   ]
  },
  {
   "cell_type": "code",
   "execution_count": 43,
   "metadata": {},
   "outputs": [
    {
     "name": "stdout",
     "output_type": "stream",
     "text": [
      "The probability is 9.01 % for 7 customers enter during lunch rush\n"
     ]
    }
   ],
   "source": [
    "from math import exp\n",
    "from math import factorial\n",
    "# Set Lamb\n",
    "\n",
    "lamb =10\n",
    "\n",
    "k = 7\n",
    "\n",
    "#the probability mass function of X \n",
    "prob = ((lamb**k)*exp(-lamb))/factorial(k)\n",
    "\n",
    "print('The probability is %2.2f %% for 7 customers enter during lunch rush' %(100*prob))"
   ]
  },
  {
   "cell_type": "markdown",
   "metadata": {},
   "source": [
    "# Automatically population with scipy - poisson"
   ]
  },
  {
   "cell_type": "code",
   "execution_count": 51,
   "metadata": {},
   "outputs": [
    {
     "name": "stdout",
     "output_type": "stream",
     "text": [
      "There is a 9.01 % chance that exactly 7 customers show up at lunch rush with the mean is 10.00.\n"
     ]
    }
   ],
   "source": [
    "from scipy.stats import poisson\n",
    "\n",
    "# Set up the mean equls to 10\n",
    "#Mean = 10 customrers for the lunch rush\n",
    "mu =10\n",
    "\n",
    "#Grab mean and variance\n",
    "mean,var = poisson.stats(mu)\n",
    "\n",
    "#calculate the PMF at specific points, such as the odds of exactly 7 customers\n",
    "odds_seven=poisson.pmf(7,mu)\n",
    "\n",
    "print('There is a %1.2f %% chance that exactly 7 customers show up at lunch rush with the mean is %.2f.' %(odds_seven*100,mu))\n"
   ]
  },
  {
   "cell_type": "code",
   "execution_count": 65,
   "metadata": {},
   "outputs": [
    {
     "data": {
      "text/plain": [
       "<BarContainer object of 15 artists>"
      ]
     },
     "execution_count": 65,
     "metadata": {},
     "output_type": "execute_result"
    },
    {
     "data": {
      "image/png": "[encoded data removed]",
      "text/plain": [
       "<Figure size 432x288 with 1 Axes>"
      ]
     },
     "metadata": {
      "needs_background": "light"
     },
     "output_type": "display_data"
    }
   ],
   "source": [
    "# Let's see the PMF for all the way to 20 customers, \n",
    "# remeber theoretically an infinite number of customers could show up.\n",
    "k = np.arange(15)\n",
    "\n",
    "# Average of 10 customers for the time interval\n",
    "lamb = 10\n",
    "\n",
    "#The Probability Mass Function that we will use to plot\n",
    "pmf_pois = poisson.pmf(k,lamb)\n",
    "\n",
    "#The probabilities of 30 customers.\n",
    "plt.bar(k,pmf_pois, y =10)"
   ]
  },
  {
   "cell_type": "code",
   "execution_count": 59,
   "metadata": {},
   "outputs": [
    {
     "data": {
      "text/plain": [
       "<BarContainer object of 30 artists>"
      ]
     },
     "execution_count": 59,
     "metadata": {},
     "output_type": "execute_result"
    },
    {
     "data": {
      "image/png": "[encoded data removed]",
      "text/plain": [
       "<Figure size 432x288 with 1 Axes>"
      ]
     },
     "metadata": {
      "needs_background": "light"
     },
     "output_type": "display_data"
    }
   ],
   "source": [
    "# Let's see the PMF for all the way to 30 customers, \n",
    "# remeber theoretically an infinite number of customers could show up.\n",
    "k = np.arange(30)\n",
    "\n",
    "# Average of 10 customers for the time interval\n",
    "lamb = 10\n",
    "\n",
    "#The Probability Mass Function that we will use to plot\n",
    "pmf_pois = poisson.pmf(k,lamb)\n",
    "\n",
    "#The probabilities of 30 customers.\n",
    "plt.bar(k,pmf_pois, y =10)"
   ]
  },
  {
   "cell_type": "markdown",
   "metadata": {},
   "source": [
    "* What is the probability that more than 10 customers arrive? We need to sum up the value of every bar past 10 the 10 customers bar.\n",
    "\n",
    "We can do this by using a Cumulative Distribution Function (CDF). This describes the probability that a random variable X with a given probability distribution (such as the Poisson in this current case) will be found to have a value less than or equal to X."
   ]
  },
  {
   "cell_type": "code",
   "execution_count": 61,
   "metadata": {},
   "outputs": [
    {
     "name": "stdout",
     "output_type": "stream",
     "text": [
      "The probability that 10 or less customers showing up is 58.30 %\n"
     ]
    }
   ],
   "source": [
    "# Ten or less than 10 customers showing up\n",
    "\n",
    "k, mu = 10, 10\n",
    "\n",
    "#Using Cumulative Distribution Function (CDF)\n",
    "prob_up_ten = poisson.cdf(k,mu)\n",
    "\n",
    "print('The probability that 10 or less customers showing up is %.2f %%' %(prob_up_ten*100))"
   ]
  },
  {
   "cell_type": "code",
   "execution_count": 63,
   "metadata": {},
   "outputs": [
    {
     "name": "stdout",
     "output_type": "stream",
     "text": [
      "The probability that more than 10 customers showing up is 41.70 %\n"
     ]
    }
   ],
   "source": [
    "Porb_morethan_ten = 1- prob_up_ten\n",
    "\n",
    "Porb_morethan_ten \n",
    "\n",
    "print('The probability that more than 10 customers showing up is %.2f %%' %(Porb_morethan_ten*100))"
   ]
  },
  {
   "cell_type": "code",
   "execution_count": null,
   "metadata": {},
   "outputs": [],
   "source": []
  }
 ],
 "metadata": {
  "kernelspec": {
   "display_name": "Python 3",
   "language": "python",
   "name": "python3"
  },
  "language_info": {
   "codemirror_mode": {
    "name": "ipython",
    "version": 3
   },
   "file_extension": ".py",
   "mimetype": "text/x-python",
   "name": "python",
   "nbconvert_exporter": "python",
   "pygments_lexer": "ipython3",
   "version": "3.7.3"
  }
 },
 "nbformat": 4,
 "nbformat_minor": 2
}
